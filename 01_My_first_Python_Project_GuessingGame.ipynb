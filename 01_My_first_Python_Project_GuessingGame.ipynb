{
 "cells": [
  {
   "cell_type": "code",
   "execution_count": null,
   "id": "b5e11122-5008-4c73-9c1b-e851893f566e",
   "metadata": {},
   "outputs": [],
   "source": [
    "# This is my first python project. I'll do some simple operations:"
   ]
  },
  {
   "cell_type": "code",
   "execution_count": 2,
   "id": "ac9dcdf1-4bbf-40b0-bf12-4e3b517d6445",
   "metadata": {},
   "outputs": [],
   "source": [
    "import random"
   ]
  },
  {
   "cell_type": "markdown",
   "id": "85fd9738-320f-4619-92e2-42e99057d96b",
   "metadata": {
    "jp-MarkdownHeadingCollapsed": true
   },
   "source": [
    "### Guessing Game Level 1:\n",
    "This function generates a random integer between 1-2. If user guesses right they win, otherwise they lose"
   ]
  },
  {
   "cell_type": "code",
   "execution_count": 14,
   "id": "70dd2073-c5b7-43cf-a296-fad0eb7a7f95",
   "metadata": {},
   "outputs": [
    {
     "name": "stdin",
     "output_type": "stream",
     "text": [
      "Pick a number between 1-2? 2\n"
     ]
    },
    {
     "data": {
      "text/plain": [
       "'Well done!'"
      ]
     },
     "execution_count": 14,
     "metadata": {},
     "output_type": "execute_result"
    }
   ],
   "source": [
    "def guessing_game1():\n",
    "    # This function generates a random integer between 1-2. If user guesses right they win, otherwise they lose\n",
    "    num = random.randint(1,2)\n",
    "    guess=int(input(\"Pick a number between 1-2?\"))\n",
    "    if num != guess: \n",
    "        print(\"Incorrect\")\n",
    "    else:\n",
    "        return(\"Well done!\")\n",
    "\n",
    "guessing_game1()"
   ]
  },
  {
   "cell_type": "markdown",
   "id": "783c7dd2-d806-438b-a3da-d2f601b5bda8",
   "metadata": {
    "jp-MarkdownHeadingCollapsed": true
   },
   "source": [
    "### Guessing Game Level 2:\n",
    "This function generates a random integer between 1-10. If user guesses right they win, otherwise they can keep guessing.\n"
   ]
  },
  {
   "cell_type": "code",
   "execution_count": 13,
   "id": "3386fa5b-7cba-40cb-95ae-50b1a76a229e",
   "metadata": {},
   "outputs": [
    {
     "name": "stdin",
     "output_type": "stream",
     "text": [
      "Pick a number between 1-10? 1\n"
     ]
    },
    {
     "name": "stdout",
     "output_type": "stream",
     "text": [
      "1  was incorrect\n"
     ]
    },
    {
     "name": "stdin",
     "output_type": "stream",
     "text": [
      "Pick a number between 1-10? 2\n"
     ]
    },
    {
     "name": "stdout",
     "output_type": "stream",
     "text": [
      "2  was incorrect\n"
     ]
    },
    {
     "name": "stdin",
     "output_type": "stream",
     "text": [
      "Pick a number between 1-10? 3\n"
     ]
    },
    {
     "name": "stdout",
     "output_type": "stream",
     "text": [
      "3  was incorrect\n"
     ]
    },
    {
     "name": "stdin",
     "output_type": "stream",
     "text": [
      "Pick a number between 1-10? 4\n"
     ]
    },
    {
     "name": "stdout",
     "output_type": "stream",
     "text": [
      "4  was incorrect\n"
     ]
    },
    {
     "name": "stdin",
     "output_type": "stream",
     "text": [
      "Pick a number between 1-10? 5\n"
     ]
    },
    {
     "name": "stdout",
     "output_type": "stream",
     "text": [
      "5  was incorrect\n"
     ]
    },
    {
     "name": "stdin",
     "output_type": "stream",
     "text": [
      "Pick a number between 1-10? 6\n"
     ]
    },
    {
     "name": "stdout",
     "output_type": "stream",
     "text": [
      "6  was incorrect\n"
     ]
    },
    {
     "name": "stdin",
     "output_type": "stream",
     "text": [
      "Pick a number between 1-10? 7\n"
     ]
    },
    {
     "data": {
      "text/plain": [
       "'Well done!'"
      ]
     },
     "execution_count": 13,
     "metadata": {},
     "output_type": "execute_result"
    }
   ],
   "source": [
    "def guessing_game2():\n",
    "    # This function generates a random integer between 1-10. If user guesses right they win, otherwise they can keep guessing.\n",
    "    num = random.randint(1,10)\n",
    "    guess=int(input(\"Pick a number between 1-10?\"))\n",
    "    while num != guess: \n",
    "        print(guess,\" was incorrect\")\n",
    "        guess=int(input(\"Pick a number between 1-10?\"))\n",
    "    else:\n",
    "        return(\"Well done!\")\n",
    "\n",
    "guessing_game2()"
   ]
  },
  {
   "cell_type": "markdown",
   "id": "49e1c793-c69a-49d3-bb93-b0c6ef914202",
   "metadata": {
    "jp-MarkdownHeadingCollapsed": true
   },
   "source": [
    "### Guessing Game Level 3:\n",
    "This function generates a random integer between 1-10. If user guesses right they win, otherwise they get a hint.\n"
   ]
  },
  {
   "cell_type": "code",
   "execution_count": 11,
   "id": "7c656cb8-d86b-4a55-bb32-6f2ef958c8d5",
   "metadata": {},
   "outputs": [
    {
     "name": "stdin",
     "output_type": "stream",
     "text": [
      "Pick a number between 1-10? 6\n"
     ]
    },
    {
     "name": "stdout",
     "output_type": "stream",
     "text": [
      "6  was incorrect\n",
      "You guessed too high\n"
     ]
    },
    {
     "name": "stdin",
     "output_type": "stream",
     "text": [
      "Pick a new number between 1-10? 3\n"
     ]
    },
    {
     "name": "stdout",
     "output_type": "stream",
     "text": [
      "3  was incorrect\n",
      "You guessed too high\n"
     ]
    },
    {
     "name": "stdin",
     "output_type": "stream",
     "text": [
      "Pick a new number between 1-10? 2\n"
     ]
    },
    {
     "name": "stdout",
     "output_type": "stream",
     "text": [
      "2  was incorrect\n",
      "You guessed too high\n"
     ]
    },
    {
     "name": "stdin",
     "output_type": "stream",
     "text": [
      "Pick a new number between 1-10? 1\n"
     ]
    },
    {
     "data": {
      "text/plain": [
       "'Well done!'"
      ]
     },
     "execution_count": 11,
     "metadata": {},
     "output_type": "execute_result"
    }
   ],
   "source": [
    "def guessing_game3():\n",
    "    # This function generates a random integer between 1-10. If user guesses right they win, otherwise they get a hint.\n",
    "    num = random.randint(1,10)\n",
    "    guess=int(input(\"Pick a number between 1-10?\"))\n",
    "    while num != guess: \n",
    "        print(guess,\" was incorrect\")\n",
    "        if num < guess:\n",
    "            print(\"You guessed too high\")\n",
    "            guess=int(input(\"Pick a new number between 1-10?\"))\n",
    "        else:\n",
    "            print(\"You guessed too low!\")\n",
    "            guess=int(input(\"Pick a new number between 1-10\"))\n",
    "                \n",
    "    else:\n",
    "        return(\"Well done!\")\n",
    "\n",
    "guessing_game3()"
   ]
  },
  {
   "cell_type": "markdown",
   "id": "b83eb5b7-12ea-4516-a8ff-03fa8b342086",
   "metadata": {
    "jp-MarkdownHeadingCollapsed": true
   },
   "source": [
    "### Guessing Game Level 4:\n",
    "This function generates a random integer between 1-10. The user has 3 guesses; after an incorrect guess they get a hint.\n"
   ]
  },
  {
   "cell_type": "code",
   "execution_count": 10,
   "id": "3323b95f-4bc3-43e3-a0c1-22e890afbc93",
   "metadata": {},
   "outputs": [
    {
     "name": "stdin",
     "output_type": "stream",
     "text": [
      "Pick a number between 1-10? 3\n"
     ]
    },
    {
     "name": "stdout",
     "output_type": "stream",
     "text": [
      "Your guess 3 too high. You have 2 attepts left\n"
     ]
    },
    {
     "name": "stdin",
     "output_type": "stream",
     "text": [
      "Pick a number between 1-10? 2\n"
     ]
    },
    {
     "name": "stdout",
     "output_type": "stream",
     "text": [
      "Your guess 2 too high. You have 1 attepts left\n"
     ]
    },
    {
     "name": "stdin",
     "output_type": "stream",
     "text": [
      "Pick a number between 1-10? 1\n"
     ]
    },
    {
     "data": {
      "text/plain": [
       "'You win!'"
      ]
     },
     "execution_count": 10,
     "metadata": {},
     "output_type": "execute_result"
    }
   ],
   "source": [
    "def guessing_game4():\n",
    "    # This function generates a random integer between 1-10. The user has 3 guesses; after an incorrect guess they get a hint.\n",
    "    num = random.randint(1,10)\n",
    "    tries=3\n",
    "    while tries >0:\n",
    "        guess=int(input(\"Pick a number between 1-10?\"))\n",
    "        if num != guess: \n",
    "            tries=tries-1\n",
    "            if num < guess:\n",
    "                print(f\"Your guess {guess} too high. You have {tries} attepts left\")\n",
    "\n",
    "            else:\n",
    "                print(f\"Your guess {guess} too low. You have {tries} attepts left\")\n",
    "\n",
    "        else:\n",
    "            return(\"You win!\")\n",
    "    return(\"Game Over\")\n",
    "\n",
    "\n",
    "guessing_game4()"
   ]
  },
  {
   "cell_type": "markdown",
   "id": "87ca92b5-9b77-4673-9620-9c2715f884d2",
   "metadata": {
    "jp-MarkdownHeadingCollapsed": true
   },
   "source": [
    "### Guessing Game Level 5:\n",
    "Same as before, but now we notify user if input is incorrect format e.g. string or a number too small or large."
   ]
  },
  {
   "cell_type": "code",
   "execution_count": 9,
   "id": "b2cabf15-d3ba-4516-a1a8-f69c5a74055b",
   "metadata": {},
   "outputs": [
    {
     "name": "stdin",
     "output_type": "stream",
     "text": [
      "Pick a number between 1-10? f\n"
     ]
    },
    {
     "name": "stdout",
     "output_type": "stream",
     "text": [
      "You're guess is not a valid number. Try again.\n"
     ]
    },
    {
     "name": "stdin",
     "output_type": "stream",
     "text": [
      "Pick a number between 1-10? 33\n"
     ]
    },
    {
     "name": "stdout",
     "output_type": "stream",
     "text": [
      "33 not in range\n"
     ]
    },
    {
     "name": "stdin",
     "output_type": "stream",
     "text": [
      "Pick a number between 1-10? -65\n"
     ]
    },
    {
     "name": "stdout",
     "output_type": "stream",
     "text": [
      "-65 not in range\n"
     ]
    },
    {
     "name": "stdin",
     "output_type": "stream",
     "text": [
      "Pick a number between 1-10? 2\n"
     ]
    },
    {
     "name": "stdout",
     "output_type": "stream",
     "text": [
      "Your guess 2 too low. You have 2 attepts left\n"
     ]
    },
    {
     "name": "stdin",
     "output_type": "stream",
     "text": [
      "Pick a number between 1-10? 7\n"
     ]
    },
    {
     "name": "stdout",
     "output_type": "stream",
     "text": [
      "Your guess 7 too high. You have 1 attepts left\n"
     ]
    },
    {
     "name": "stdin",
     "output_type": "stream",
     "text": [
      "Pick a number between 1-10? 5\n"
     ]
    },
    {
     "data": {
      "text/plain": [
       "'You win!'"
      ]
     },
     "execution_count": 9,
     "metadata": {},
     "output_type": "execute_result"
    }
   ],
   "source": [
    "def guessing_game5():\n",
    "    # This function generates a random integer between 1-10. The user has 3 guesses; after an incorrect guess they get a hint.\n",
    "    num = random.randint(1,10)\n",
    "    tries=3\n",
    "    while tries >0:\n",
    "        while True:\n",
    "            try:\n",
    "                guess=int(input(\"Pick a number between 1-10?\"))\n",
    "                if 1 <= guess <=10:\n",
    "                    break\n",
    "                else:\n",
    "                    print(f\"{guess} not in range\")\n",
    "            except ValueError:\n",
    "                print(f\"You're guess is not a valid number. Try again.\")\n",
    "        if num != guess: \n",
    "            tries=tries-1\n",
    "            if num < guess:\n",
    "                print(f\"Your guess {guess} too high. You have {tries} attepts left\")\n",
    "\n",
    "            else:\n",
    "                print(f\"Your guess {guess} too low. You have {tries} attepts left\")\n",
    "\n",
    "        else:\n",
    "            return(\"You win!\")\n",
    "    return(\"Game Over\")\n",
    "\n",
    "guessing_game5()"
   ]
  },
  {
   "cell_type": "markdown",
   "id": "8f521767-7ff4-4759-b9dc-c9b6e2400774",
   "metadata": {},
   "source": [
    "### ChatGPT Improved Version:\n",
    "This is a version written by ChatGPT. \n",
    "- Grammar fixes\n",
    "- Improved function docstring\n",
    "- Simplified input validation logic using continue\n",
    "- Clearer formatting and indentation."
   ]
  },
  {
   "cell_type": "code",
   "execution_count": 13,
   "id": "046b0b71-97a5-4f59-9a69-c004d40d9867",
   "metadata": {},
   "outputs": [
    {
     "name": "stdin",
     "output_type": "stream",
     "text": [
      "Pick a number between 1 and 10:  10\n"
     ]
    },
    {
     "name": "stdout",
     "output_type": "stream",
     "text": [
      "Your guess 10 is too high. You have 2 attempts left.\n"
     ]
    },
    {
     "name": "stdin",
     "output_type": "stream",
     "text": [
      "Pick a number between 1 and 10:  3\n"
     ]
    },
    {
     "name": "stdout",
     "output_type": "stream",
     "text": [
      "Your guess 3 is too low. You have 1 attempts left.\n"
     ]
    },
    {
     "name": "stdin",
     "output_type": "stream",
     "text": [
      "Pick a number between 1 and 10:  6\n"
     ]
    },
    {
     "name": "stdout",
     "output_type": "stream",
     "text": [
      "Your guess 6 is too low. You have 0 attempts left.\n",
      "Game Over\n"
     ]
    }
   ],
   "source": [
    "import random\n",
    "\n",
    "def guessing_game6():\n",
    "    \"\"\"A guessing game where the user has 3 chances to guess a random number between 1 and 10.\"\"\"\n",
    "    num = random.randint(1, 10)\n",
    "    tries = 3\n",
    "\n",
    "    while tries > 0:\n",
    "        try:\n",
    "            guess = int(input(\"Pick a number between 1 and 10: \"))\n",
    "            if not 1 <= guess <= 10:\n",
    "                print(f\"{guess} is not in range. Try again.\")\n",
    "                continue\n",
    "        except ValueError:\n",
    "            print(\"Your guess is not a valid number. Try again.\")\n",
    "            continue\n",
    "\n",
    "        if guess == num:\n",
    "            print(\"You win!\")\n",
    "            return\n",
    "\n",
    "        tries -= 1\n",
    "        if guess > num:\n",
    "            print(f\"Your guess {guess} is too high. You have {tries} attempts left.\")\n",
    "        else:\n",
    "            print(f\"Your guess {guess} is too low. You have {tries} attempts left.\")\n",
    "\n",
    "    print(\"Game Over\")\n",
    "\n",
    "guessing_game6()"
   ]
  },
  {
   "cell_type": "markdown",
   "id": "82096b20-cd5d-43ef-932c-710ba52b4c74",
   "metadata": {},
   "source": [
    "### Guessing Game Level 7:\n",
    "You can now restart the game at the end!"
   ]
  },
  {
   "cell_type": "code",
   "execution_count": 15,
   "id": "523fcb18-067f-4ecc-b801-1cc5a19eb550",
   "metadata": {},
   "outputs": [
    {
     "name": "stdout",
     "output_type": "stream",
     "text": [
      "\n",
      "🎯 I'm thinking of a number between 1 and 10. You have 3 attempts.\n"
     ]
    },
    {
     "name": "stdin",
     "output_type": "stream",
     "text": [
      "Enter your guess:  7\n"
     ]
    },
    {
     "name": "stdout",
     "output_type": "stream",
     "text": [
      "❌ Your guess is too high. You have 2 attempts left.\n"
     ]
    },
    {
     "name": "stdin",
     "output_type": "stream",
     "text": [
      "Enter your guess:  4ű\n"
     ]
    },
    {
     "name": "stdout",
     "output_type": "stream",
     "text": [
      "🚫 Invalid input. Please enter a number.\n"
     ]
    },
    {
     "name": "stdin",
     "output_type": "stream",
     "text": [
      "Enter your guess:  4\n"
     ]
    },
    {
     "name": "stdout",
     "output_type": "stream",
     "text": [
      "❌ Your guess is too high. You have 1 attempts left.\n"
     ]
    },
    {
     "name": "stdin",
     "output_type": "stream",
     "text": [
      "Enter your guess:  2\n"
     ]
    },
    {
     "name": "stdout",
     "output_type": "stream",
     "text": [
      "❌ Your guess is too low. You have 0 attempts left.\n",
      "💀 Game Over. The correct number was 3.\n"
     ]
    },
    {
     "name": "stdin",
     "output_type": "stream",
     "text": [
      "🔁 Play again? (Y/N):  y\n"
     ]
    },
    {
     "name": "stdout",
     "output_type": "stream",
     "text": [
      "\n",
      "🎯 I'm thinking of a number between 1 and 10. You have 3 attempts.\n"
     ]
    },
    {
     "name": "stdin",
     "output_type": "stream",
     "text": [
      "Enter your guess:  6\n"
     ]
    },
    {
     "name": "stdout",
     "output_type": "stream",
     "text": [
      "❌ Your guess is too high. You have 2 attempts left.\n"
     ]
    },
    {
     "name": "stdin",
     "output_type": "stream",
     "text": [
      "Enter your guess:  3\n"
     ]
    },
    {
     "name": "stdout",
     "output_type": "stream",
     "text": [
      "❌ Your guess is too low. You have 1 attempts left.\n"
     ]
    },
    {
     "name": "stdin",
     "output_type": "stream",
     "text": [
      "Enter your guess:  5\n"
     ]
    },
    {
     "name": "stdout",
     "output_type": "stream",
     "text": [
      "❌ Your guess is too high. You have 0 attempts left.\n",
      "💀 Game Over. The correct number was 4.\n"
     ]
    },
    {
     "name": "stdin",
     "output_type": "stream",
     "text": [
      "🔁 Play again? (Y/N):  n\n"
     ]
    },
    {
     "name": "stdout",
     "output_type": "stream",
     "text": [
      "👋 Thanks for playing!\n"
     ]
    }
   ],
   "source": [
    "import random\n",
    "\n",
    "def guessing_game():\n",
    "    \"\"\"A guessing game where the user has 3 chances to guess a random number between 1 and 10.\"\"\"\n",
    "\n",
    "    while True:\n",
    "        num = random.randint(1, 10)\n",
    "        tries = 3\n",
    "\n",
    "        print(\"\\n🎯 I'm thinking of a number between 1 and 10. You have 3 attempts.\")\n",
    "\n",
    "        while tries > 0:\n",
    "            try:\n",
    "                guess = int(input(\"Enter your guess: \"))\n",
    "                if not 1 <= guess <= 10:\n",
    "                    print(\"🚫 Number out of range. Try again.\")\n",
    "                    continue\n",
    "            except ValueError:\n",
    "                print(\"🚫 Invalid input. Please enter a number.\")\n",
    "                continue\n",
    "\n",
    "            if guess == num:\n",
    "                print(\"🎉 You win!\")\n",
    "                break\n",
    "\n",
    "            tries -= 1\n",
    "            hint = \"too high\" if guess > num else \"too low\"\n",
    "            print(f\"❌ Your guess is {hint}. You have {tries} attempts left.\")\n",
    "\n",
    "        else:\n",
    "            print(f\"💀 Game Over. The correct number was {num}.\")\n",
    "\n",
    "        replay = input(\"🔁 Play again? (Y/N): \").strip().lower()\n",
    "        if replay not in (\"y\", \"yes\"):\n",
    "            print(\"👋 Thanks for playing!\")\n",
    "            break\n",
    "\n",
    "guessing_game()"
   ]
  },
  {
   "cell_type": "markdown",
   "id": "b0c67367-bd0e-40e2-9e55-f53393ac983a",
   "metadata": {},
   "source": [
    "### 🔁 Why does the game restart when the player types \"y\"?\n",
    "\n",
    "Let's break down why the game restarts when the user enters `\"y\"` at the end of the guessing game.\n",
    "\n",
    "---\n",
    "\n",
    "#### 🔄 The key part of the code:\n",
    "\n",
    "```python\n",
    "while True:\n",
    "    ...\n",
    "    replay = input(\"🔁 Play again? (Y/N): \").strip().lower()\n",
    "    if replay not in (\"y\", \"yes\"):\n",
    "        print(\"👋 Thanks for playing!\")\n",
    "        break\n",
    "```\n",
    "\n",
    "### 🧠 So what’s happening?\n",
    "\n",
    "- The entire game runs inside a `while True:` loop.  \n",
    "  This means: \"Keep running the game forever unless we explicitly tell it to stop using `break`.\"\n",
    "\n",
    "- At the end of the game, we ask the user:\n",
    "\n",
    "  ```python\n",
    "  replay = input(\"Play again?\").strip().lower()\n",
    "  \n",
    "\n",
    "If the user types \"Y\", it becomes \"y\" after applying .strip().lower().\n",
    "- Thank we check:\n",
    "```python\n",
    "if replay not in (\"y\", \"yes\"):\n",
    "    break \n",
    "```\n",
    "\n",
    "- If the input is **not** \"y\" or \"yes\", the loop is broken and the game ends.\n",
    "\n",
    "- If the input **is** \"y\" or \"yes\", then the condition is **false, so we do not break**.\n",
    "\n",
    "Since we’re still inside the while True: loop, the code **restarts the game** from the top.\n",
    "\n",
    "### ✅ Summary\n",
    "\n",
    "- The game restarts because it's inside a **while True: loop**.\n",
    "\n",
    "- It only exits the loop if the player types something **other than** \"y\" or \"yes\".\n",
    "\n",
    "- If they type \"y\" or \"yes\", the loop continues — and the game starts over."
   ]
  }
 ],
 "metadata": {
  "kernelspec": {
   "display_name": "Python 3 (ipykernel)",
   "language": "python",
   "name": "python3"
  },
  "language_info": {
   "codemirror_mode": {
    "name": "ipython",
    "version": 3
   },
   "file_extension": ".py",
   "mimetype": "text/x-python",
   "name": "python",
   "nbconvert_exporter": "python",
   "pygments_lexer": "ipython3",
   "version": "3.13.2"
  }
 },
 "nbformat": 4,
 "nbformat_minor": 5
}
