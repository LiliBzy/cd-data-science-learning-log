{
 "cells": [
  {
   "cell_type": "code",
   "execution_count": null,
   "id": "b5e11122-5008-4c73-9c1b-e851893f566e",
   "metadata": {},
   "outputs": [],
   "source": [
    "# This is my first python project. I'll do some simple operations:"
   ]
  },
  {
   "cell_type": "code",
   "execution_count": 2,
   "id": "ac9dcdf1-4bbf-40b0-bf12-4e3b517d6445",
   "metadata": {},
   "outputs": [],
   "source": [
    "import random"
   ]
  },
  {
   "cell_type": "markdown",
   "id": "85fd9738-320f-4619-92e2-42e99057d96b",
   "metadata": {},
   "source": [
    "### Guessing Game Level 1:\n",
    "This function generates a random integer between 1-2. If user guesses right they win, otherwise they lose"
   ]
  },
  {
   "cell_type": "code",
   "execution_count": 14,
   "id": "70dd2073-c5b7-43cf-a296-fad0eb7a7f95",
   "metadata": {},
   "outputs": [
    {
     "name": "stdin",
     "output_type": "stream",
     "text": [
      "Pick a number between 1-2? 2\n"
     ]
    },
    {
     "data": {
      "text/plain": [
       "'Well done!'"
      ]
     },
     "execution_count": 14,
     "metadata": {},
     "output_type": "execute_result"
    }
   ],
   "source": [
    "def guessing_game1():\n",
    "    # This function generates a random integer between 1-2. If user guesses right they win, otherwise they lose\n",
    "    num = random.randint(1,2)\n",
    "    guess=int(input(\"Pick a number between 1-2?\"))\n",
    "    if num != guess: \n",
    "        print(\"Incorrect\")\n",
    "    else:\n",
    "        return(\"Well done!\")\n",
    "\n",
    "guessing_game1()"
   ]
  },
  {
   "cell_type": "markdown",
   "id": "783c7dd2-d806-438b-a3da-d2f601b5bda8",
   "metadata": {},
   "source": [
    "### Guessing Game Level 2:\n",
    "This function generates a random integer between 1-10. If user guesses right they win, otherwise they can keep guessing.\n"
   ]
  },
  {
   "cell_type": "code",
   "execution_count": 13,
   "id": "3386fa5b-7cba-40cb-95ae-50b1a76a229e",
   "metadata": {},
   "outputs": [
    {
     "name": "stdin",
     "output_type": "stream",
     "text": [
      "Pick a number between 1-10? 1\n"
     ]
    },
    {
     "name": "stdout",
     "output_type": "stream",
     "text": [
      "1  was incorrect\n"
     ]
    },
    {
     "name": "stdin",
     "output_type": "stream",
     "text": [
      "Pick a number between 1-10? 2\n"
     ]
    },
    {
     "name": "stdout",
     "output_type": "stream",
     "text": [
      "2  was incorrect\n"
     ]
    },
    {
     "name": "stdin",
     "output_type": "stream",
     "text": [
      "Pick a number between 1-10? 3\n"
     ]
    },
    {
     "name": "stdout",
     "output_type": "stream",
     "text": [
      "3  was incorrect\n"
     ]
    },
    {
     "name": "stdin",
     "output_type": "stream",
     "text": [
      "Pick a number between 1-10? 4\n"
     ]
    },
    {
     "name": "stdout",
     "output_type": "stream",
     "text": [
      "4  was incorrect\n"
     ]
    },
    {
     "name": "stdin",
     "output_type": "stream",
     "text": [
      "Pick a number between 1-10? 5\n"
     ]
    },
    {
     "name": "stdout",
     "output_type": "stream",
     "text": [
      "5  was incorrect\n"
     ]
    },
    {
     "name": "stdin",
     "output_type": "stream",
     "text": [
      "Pick a number between 1-10? 6\n"
     ]
    },
    {
     "name": "stdout",
     "output_type": "stream",
     "text": [
      "6  was incorrect\n"
     ]
    },
    {
     "name": "stdin",
     "output_type": "stream",
     "text": [
      "Pick a number between 1-10? 7\n"
     ]
    },
    {
     "data": {
      "text/plain": [
       "'Well done!'"
      ]
     },
     "execution_count": 13,
     "metadata": {},
     "output_type": "execute_result"
    }
   ],
   "source": [
    "def guessing_game2():\n",
    "    # This function generates a random integer between 1-10. If user guesses right they win, otherwise they can keep guessing.\n",
    "    num = random.randint(1,10)\n",
    "    guess=int(input(\"Pick a number between 1-10?\"))\n",
    "    while num != guess: \n",
    "        print(guess,\" was incorrect\")\n",
    "        guess=int(input(\"Pick a number between 1-10?\"))\n",
    "    else:\n",
    "        return(\"Well done!\")\n",
    "\n",
    "guessing_game2()"
   ]
  },
  {
   "cell_type": "markdown",
   "id": "49e1c793-c69a-49d3-bb93-b0c6ef914202",
   "metadata": {},
   "source": [
    "### Guessing Game Level 3:\n",
    "This function generates a random integer between 1-10. If user guesses right they win, otherwise they get a hint.\n"
   ]
  },
  {
   "cell_type": "code",
   "execution_count": 11,
   "id": "7c656cb8-d86b-4a55-bb32-6f2ef958c8d5",
   "metadata": {},
   "outputs": [
    {
     "name": "stdin",
     "output_type": "stream",
     "text": [
      "Pick a number between 1-10? 6\n"
     ]
    },
    {
     "name": "stdout",
     "output_type": "stream",
     "text": [
      "6  was incorrect\n",
      "You guessed too high\n"
     ]
    },
    {
     "name": "stdin",
     "output_type": "stream",
     "text": [
      "Pick a new number between 1-10? 3\n"
     ]
    },
    {
     "name": "stdout",
     "output_type": "stream",
     "text": [
      "3  was incorrect\n",
      "You guessed too high\n"
     ]
    },
    {
     "name": "stdin",
     "output_type": "stream",
     "text": [
      "Pick a new number between 1-10? 2\n"
     ]
    },
    {
     "name": "stdout",
     "output_type": "stream",
     "text": [
      "2  was incorrect\n",
      "You guessed too high\n"
     ]
    },
    {
     "name": "stdin",
     "output_type": "stream",
     "text": [
      "Pick a new number between 1-10? 1\n"
     ]
    },
    {
     "data": {
      "text/plain": [
       "'Well done!'"
      ]
     },
     "execution_count": 11,
     "metadata": {},
     "output_type": "execute_result"
    }
   ],
   "source": [
    "def guessing_game3():\n",
    "    # This function generates a random integer between 1-10. If user guesses right they win, otherwise they get a hint.\n",
    "    num = random.randint(1,10)\n",
    "    guess=int(input(\"Pick a number between 1-10?\"))\n",
    "    while num != guess: \n",
    "        print(guess,\" was incorrect\")\n",
    "        if num < guess:\n",
    "            print(\"You guessed too high\")\n",
    "            guess=int(input(\"Pick a new number between 1-10?\"))\n",
    "        else:\n",
    "            print(\"You guessed too low!\")\n",
    "            guess=int(input(\"Pick a new number between 1-10\"))\n",
    "                \n",
    "    else:\n",
    "        return(\"Well done!\")\n",
    "\n",
    "guessing_game3()"
   ]
  },
  {
   "cell_type": "markdown",
   "id": "b83eb5b7-12ea-4516-a8ff-03fa8b342086",
   "metadata": {},
   "source": [
    "### Guessing Game Level 4:\n",
    "This function generates a random integer between 1-10. The user has 3 guesses; after an incorrect guess they get a hint.\n"
   ]
  },
  {
   "cell_type": "code",
   "execution_count": 10,
   "id": "3323b95f-4bc3-43e3-a0c1-22e890afbc93",
   "metadata": {},
   "outputs": [
    {
     "name": "stdin",
     "output_type": "stream",
     "text": [
      "Pick a number between 1-10? 3\n"
     ]
    },
    {
     "name": "stdout",
     "output_type": "stream",
     "text": [
      "Your guess 3 too high. You have 2 attepts left\n"
     ]
    },
    {
     "name": "stdin",
     "output_type": "stream",
     "text": [
      "Pick a number between 1-10? 2\n"
     ]
    },
    {
     "name": "stdout",
     "output_type": "stream",
     "text": [
      "Your guess 2 too high. You have 1 attepts left\n"
     ]
    },
    {
     "name": "stdin",
     "output_type": "stream",
     "text": [
      "Pick a number between 1-10? 1\n"
     ]
    },
    {
     "data": {
      "text/plain": [
       "'You win!'"
      ]
     },
     "execution_count": 10,
     "metadata": {},
     "output_type": "execute_result"
    }
   ],
   "source": [
    "def guessing_game4():\n",
    "    # This function generates a random integer between 1-10. The user has 3 guesses; after an incorrect guess they get a hint.\n",
    "    num = random.randint(1,10)\n",
    "    tries=3\n",
    "    while tries >0:\n",
    "        guess=int(input(\"Pick a number between 1-10?\"))\n",
    "        if num != guess: \n",
    "            tries=tries-1\n",
    "            if num < guess:\n",
    "                print(f\"Your guess {guess} too high. You have {tries} attepts left\")\n",
    "\n",
    "            else:\n",
    "                print(f\"Your guess {guess} too low. You have {tries} attepts left\")\n",
    "\n",
    "        else:\n",
    "            return(\"You win!\")\n",
    "    return(\"Game Over\")\n",
    "\n",
    "\n",
    "guessing_game4()"
   ]
  },
  {
   "cell_type": "markdown",
   "id": "87ca92b5-9b77-4673-9620-9c2715f884d2",
   "metadata": {
    "jp-MarkdownHeadingCollapsed": true
   },
   "source": [
    "### Guessing Game Level 5:\n",
    "Same as before, but now we notify user if input is incorrect format e.g. string or a number too small or large."
   ]
  },
  {
   "cell_type": "code",
   "execution_count": 9,
   "id": "b2cabf15-d3ba-4516-a1a8-f69c5a74055b",
   "metadata": {},
   "outputs": [
    {
     "name": "stdin",
     "output_type": "stream",
     "text": [
      "Pick a number between 1-10? f\n"
     ]
    },
    {
     "name": "stdout",
     "output_type": "stream",
     "text": [
      "You're guess is not a valid number. Try again.\n"
     ]
    },
    {
     "name": "stdin",
     "output_type": "stream",
     "text": [
      "Pick a number between 1-10? 33\n"
     ]
    },
    {
     "name": "stdout",
     "output_type": "stream",
     "text": [
      "33 not in range\n"
     ]
    },
    {
     "name": "stdin",
     "output_type": "stream",
     "text": [
      "Pick a number between 1-10? -65\n"
     ]
    },
    {
     "name": "stdout",
     "output_type": "stream",
     "text": [
      "-65 not in range\n"
     ]
    },
    {
     "name": "stdin",
     "output_type": "stream",
     "text": [
      "Pick a number between 1-10? 2\n"
     ]
    },
    {
     "name": "stdout",
     "output_type": "stream",
     "text": [
      "Your guess 2 too low. You have 2 attepts left\n"
     ]
    },
    {
     "name": "stdin",
     "output_type": "stream",
     "text": [
      "Pick a number between 1-10? 7\n"
     ]
    },
    {
     "name": "stdout",
     "output_type": "stream",
     "text": [
      "Your guess 7 too high. You have 1 attepts left\n"
     ]
    },
    {
     "name": "stdin",
     "output_type": "stream",
     "text": [
      "Pick a number between 1-10? 5\n"
     ]
    },
    {
     "data": {
      "text/plain": [
       "'You win!'"
      ]
     },
     "execution_count": 9,
     "metadata": {},
     "output_type": "execute_result"
    }
   ],
   "source": [
    "def guessing_game5():\n",
    "    # This function generates a random integer between 1-10. The user has 3 guesses; after an incorrect guess they get a hint.\n",
    "    num = random.randint(1,10)\n",
    "    tries=3\n",
    "    while tries >0:\n",
    "        while True:\n",
    "            try:\n",
    "                guess=int(input(\"Pick a number between 1-10?\"))\n",
    "                if 1 <= guess <=10:\n",
    "                    break\n",
    "                else:\n",
    "                    print(f\"{guess} not in range\")\n",
    "            except ValueError:\n",
    "                print(f\"You're guess is not a valid number. Try again.\")\n",
    "        if num != guess: \n",
    "            tries=tries-1\n",
    "            if num < guess:\n",
    "                print(f\"Your guess {guess} too high. You have {tries} attepts left\")\n",
    "\n",
    "            else:\n",
    "                print(f\"Your guess {guess} too low. You have {tries} attepts left\")\n",
    "\n",
    "        else:\n",
    "            return(\"You win!\")\n",
    "    return(\"Game Over\")\n",
    "\n",
    "guessing_game5()"
   ]
  }
 ],
 "metadata": {
  "kernelspec": {
   "display_name": "Python 3 (ipykernel)",
   "language": "python",
   "name": "python3"
  },
  "language_info": {
   "codemirror_mode": {
    "name": "ipython",
    "version": 3
   },
   "file_extension": ".py",
   "mimetype": "text/x-python",
   "name": "python",
   "nbconvert_exporter": "python",
   "pygments_lexer": "ipython3",
   "version": "3.13.2"
  }
 },
 "nbformat": 4,
 "nbformat_minor": 5
}
