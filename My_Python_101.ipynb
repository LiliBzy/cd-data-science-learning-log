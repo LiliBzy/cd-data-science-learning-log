{
 "cells": [
  {
   "cell_type": "markdown",
   "id": "dce8f702-83ae-4b2b-a103-1c23a64a3574",
   "metadata": {},
   "source": [
    "# Learning Python Like a Pro"
   ]
  },
  {
   "cell_type": "markdown",
   "id": "e4db30a5-40c5-4e80-a8e5-560a807f9d66",
   "metadata": {
    "jp-MarkdownHeadingCollapsed": true
   },
   "source": [
    "## 📒 Jupyter Notebook Markdown Cheat Sheet\n",
    "\n"
   ]
  },
  {
   "cell_type": "markdown",
   "id": "7bdf65fa-43ad-47cf-8170-263bb9b0981b",
   "metadata": {},
   "source": [
    "### ✨ Headers\n",
    "Use `#` symbols:\n",
    "```markdown\n",
    "# Heading 1  \n",
    "## Heading 2  \n",
    "### Heading 3  "
   ]
  },
  {
   "cell_type": "markdown",
   "id": "055fccb8-c2ac-4acd-ae13-eed836b2a310",
   "metadata": {},
   "source": [
    "**bold** → **bold**  \n",
    "*italic* → *italic*  \n",
    "~~strikethrough~~ → ~~strikethrough~~  \n",
    "`inline code` → `inline code`"
   ]
  },
  {
   "cell_type": "markdown",
   "id": "04b65d1c-d095-4642-bd99-eeb590dc02d8",
   "metadata": {},
   "source": [
    "### Lists\n",
    "- Item 1  \n",
    "  - Subitem 1  \n",
    "  - Subitem 2\n",
    "* Item 2\n",
    "+ Item 3\n",
    "\n",
    "1. First item  \n",
    "2. Second item  \n",
    "    1. Subitem"
   ]
  },
  {
   "cell_type": "markdown",
   "id": "71f13d56-4382-456b-b194-7c7204f23c35",
   "metadata": {},
   "source": [
    "### 🔗 Links & Images\n",
    "\n",
    "\n",
    "[OpenAI](https://openai.com)  \n",
    "![Image Alt Text](https://via.placeholder.com/150)"
   ]
  },
  {
   "cell_type": "markdown",
   "id": "50ffa35f-81d1-461c-ac84-34eea436974f",
   "metadata": {},
   "source": [
    "### 📊 Tables\n",
    "\n",
    "| Name     | Age | Country  |\n",
    "|----------|-----|----------|\n",
    "| Alice    | 24  | UK       |\n",
    "| Bob      | 30  | USA      |"
   ]
  },
  {
   "cell_type": "markdown",
   "id": "05f31605-c09b-4621-bc32-d1be9520cd21",
   "metadata": {},
   "source": [
    "### ➗ Math (LaTeX)\n",
    "$E = mc^2$\n",
    "\n",
    "$$\n",
    "\\int_0^1 x^2 \\, dx\n",
    "$$"
   ]
  },
  {
   "cell_type": "markdown",
   "id": "fcdc5f4b-47ff-47cb-9ec2-5b8dbdf17318",
   "metadata": {},
   "source": [
    "### ✅ Task Lists\n",
    "- [x] Install Python  \n",
    "- [ ] Learn pandas  \n",
    "- [ ] Train model\n",
    "\n"
   ]
  },
  {
   "cell_type": "markdown",
   "id": "fd6ed91d-ddb7-40a6-8d07-cbf625aff158",
   "metadata": {},
   "source": [
    "### ➕ Code Blocks\n",
    "Inline\n",
    "Use backticks: `code`\n",
    "\n",
    "Block (with syntax highlighting):\n",
    "<pre> ```python def hello(): print(\"Hello, world!\") ``` </pre>"
   ]
  },
  {
   "cell_type": "markdown",
   "id": "f882856a-f38e-4979-94ed-3c228ac6bdab",
   "metadata": {},
   "source": [
    "### 🧩 Horizontal Line\n",
    "---"
   ]
  },
  {
   "cell_type": "markdown",
   "id": "bf846075-f101-4bcf-88d4-c5aace33bfc3",
   "metadata": {},
   "source": [
    "## Python 101"
   ]
  },
  {
   "cell_type": "markdown",
   "id": "c2c9f73c-8e1f-4d58-a079-eb6e013a6652",
   "metadata": {},
   "source": [
    "[Mindmap](https://orgpad.info/s/sbwXdJ9N5wc)"
   ]
  },
  {
   "cell_type": "code",
   "execution_count": null,
   "id": "06bb6eba-720e-4a21-9e7e-14788b192cee",
   "metadata": {},
   "outputs": [],
   "source": []
  },
  {
   "cell_type": "code",
   "execution_count": null,
   "id": "43fe5c81-61cf-4d0f-96b4-167e8efaff60",
   "metadata": {},
   "outputs": [],
   "source": []
  }
 ],
 "metadata": {
  "kernelspec": {
   "display_name": "Python 3 (ipykernel)",
   "language": "python",
   "name": "python3"
  },
  "language_info": {
   "codemirror_mode": {
    "name": "ipython",
    "version": 3
   },
   "file_extension": ".py",
   "mimetype": "text/x-python",
   "name": "python",
   "nbconvert_exporter": "python",
   "pygments_lexer": "ipython3",
   "version": "3.13.2"
  }
 },
 "nbformat": 4,
 "nbformat_minor": 5
}
